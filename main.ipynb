{
 "cells": [
  {
   "cell_type": "code",
   "execution_count": 1,
   "metadata": {},
   "outputs": [],
   "source": [
    "import pandas as pd \n",
    "import plotly.graph_objects as go \n",
    "import plotly.express as px"
   ]
  },
  {
   "cell_type": "code",
   "execution_count": 2,
   "metadata": {},
   "outputs": [
    {
     "name": "stdout",
     "output_type": "stream",
     "text": [
      "                           time   latitude   longitude    depth   mag magType  \\\n",
      "0      2023-08-02T06:14:09.220Z  35.308167 -118.503833    7.110  1.24      ml   \n",
      "1      2023-08-02T06:08:54.450Z  33.226167 -115.780000   14.720  0.97      ml   \n",
      "2      2023-08-02T06:07:45.920Z  33.555167 -116.610833   14.080  0.73      ml   \n",
      "3      2023-08-02T05:53:53.070Z  35.522500 -118.363333    1.940  0.88      ml   \n",
      "4      2023-08-02T05:48:55.106Z  58.200500 -155.250400    1.100  0.60      ml   \n",
      "...                         ...        ...         ...      ...   ...     ...   \n",
      "11191  2023-07-03T06:37:55.870Z  33.586833 -116.750000   12.190  0.14      ml   \n",
      "11192  2023-07-03T06:30:15.615Z   4.596700  126.001700  136.122  4.40      mb   \n",
      "11193  2023-07-03T06:29:26.080Z  51.438100 -177.088900   35.000  2.70      ml   \n",
      "11194  2023-07-03T06:27:06.360Z  58.185667 -155.302667    1.630  0.11      ml   \n",
      "11195  2023-07-03T06:26:34.250Z  33.682833 -116.791500   16.930  0.71      ml   \n",
      "\n",
      "        nst    gap      dmin   rms  ...                   updated  \\\n",
      "0      23.0   60.0  0.069980  0.15  ...  2023-08-02T06:17:36.866Z   \n",
      "1       9.0  183.0  0.138800  0.23  ...  2023-08-02T06:12:30.085Z   \n",
      "2      18.0   91.0  0.003687  0.12  ...  2023-08-02T06:11:26.410Z   \n",
      "3      13.0   93.0  0.166500  0.11  ...  2023-08-02T05:57:28.678Z   \n",
      "4       NaN    NaN       NaN  0.80  ...  2023-08-02T05:49:55.530Z   \n",
      "...     ...    ...       ...   ...  ...                       ...   \n",
      "11191  16.0   76.0  0.013610  0.10  ...  2023-07-06T21:20:18.153Z   \n",
      "11192  25.0  131.0  2.493000  0.74  ...  2023-08-01T21:33:22.040Z   \n",
      "11193  22.0  230.0  0.337000  0.40  ...  2023-07-10T06:51:08.040Z   \n",
      "11194   8.0  153.0       NaN  0.08  ...  2023-07-05T19:31:38.180Z   \n",
      "11195  31.0   80.0  0.070390  0.11  ...  2023-07-06T21:13:21.560Z   \n",
      "\n",
      "                                     place        type horizontalError  \\\n",
      "0               20 km NNW of Tehachapi, CA  earthquake            0.22   \n",
      "1            14 km SSW of Bombay Beach, CA  earthquake            2.48   \n",
      "2                       6 km E of Anza, CA  earthquake            0.32   \n",
      "3                 14 km ESE of Bodfish, CA  earthquake            0.30   \n",
      "4               84 km NW of Karluk, Alaska  earthquake             NaN   \n",
      "...                                    ...         ...             ...   \n",
      "11191                  8km WNW of Anza, CA  earthquake            0.25   \n",
      "11192  107 km SE of Sarangani, Philippines  earthquake            5.01   \n",
      "11193            57 km SSW of Adak, Alaska  earthquake            2.59   \n",
      "11194           85 km NW of Karluk, Alaska  earthquake            0.26   \n",
      "11195              9km SW of Idyllwild, CA  earthquake            0.17   \n",
      "\n",
      "      depthError  magError  magNst     status  locationSource magSource  \n",
      "0          0.540  0.163000    18.0  automatic              ci        ci  \n",
      "1          0.830  0.055000     8.0  automatic              ci        ci  \n",
      "2          0.540  0.206000    17.0  automatic              ci        ci  \n",
      "3          1.410  0.160000     8.0  automatic              ci        ci  \n",
      "4          2.100       NaN     NaN  automatic              ak        ak  \n",
      "...          ...       ...     ...        ...             ...       ...  \n",
      "11191      0.460  0.129000     7.0   reviewed              ci        ci  \n",
      "11192      8.570  0.135000    16.0   reviewed              us        us  \n",
      "11193      1.901  0.097000    14.0   reviewed              us        us  \n",
      "11194      0.410  0.307432     8.0   reviewed              av        av  \n",
      "11195      0.300  0.110000    17.0   reviewed              ci        ci  \n",
      "\n",
      "[11196 rows x 22 columns]\n"
     ]
    }
   ],
   "source": [
    "# df = pd.read_csv(\"all_month.csv\")\n",
    "# print(df)"
   ]
  },
  {
   "cell_type": "code",
   "execution_count": 3,
   "metadata": {},
   "outputs": [],
   "source": [
    "def extract_subarea(place):\n",
    "    return place[0]"
   ]
  },
  {
   "cell_type": "code",
   "execution_count": 4,
   "metadata": {},
   "outputs": [],
   "source": [
    "def extract_area(place):\n",
    "    return place[-1]"
   ]
  },
  {
   "cell_type": "code",
   "execution_count": 5,
   "metadata": {},
   "outputs": [],
   "source": [
    "def extract_date(time):\n",
    "    return str(time).split(' ')[0]"
   ]
  },
  {
   "cell_type": "code",
   "execution_count": 6,
   "metadata": {},
   "outputs": [],
   "source": [
    "def extract_weekday(time):\n",
    "    date = extract_date(time)\n",
    "    return date + ' - ' + str(time.weekday())"
   ]
  },
  {
   "cell_type": "code",
   "execution_count": 7,
   "metadata": {},
   "outputs": [],
   "source": [
    "def extract_hour(time):\n",
    "    t = str(time).split(' ')\n",
    "    return t[0] + ' - ' + t[1].split(':')[0]    "
   ]
  },
  {
   "cell_type": "code",
   "execution_count": 8,
   "metadata": {},
   "outputs": [],
   "source": [
    "def fetch_eq_data(period=\"daily\",region=\"Worldwide\",min_mag=1):\n",
    "\n",
    "    url = 'https://earthquake.usgs.gov/earthquakes/feed/v1.0/summary/{}.csv'\n",
    "\n",
    "    if period == 'weekly':\n",
    "        new_url = url.format('all_week')\n",
    "    elif period == 'monthly':\n",
    "        new_url = url.format('all_month')\n",
    "    else:\n",
    "        new_url = url.format('all_day')\n",
    "\n",
    "    df_earthquake = pd.read_csv(new_url)\n",
    "    df_earthquake = df_earthquake[['time','latitude','longitude','mag','place']]\n",
    "    place_list = df_earthquake['place'].str.split(', ')\n",
    "    df_earthquake['sub_area'] = place_list.apply(extract_subarea)\n",
    "    df_earthquake['area'] = place_list.apply(extract_area)\n",
    "    df_earthquake = df_earthquake.drop(columns=['place'],axis=1)\n",
    "\n",
    "\n",
    "    if isinstance(min_mag,int) and min_mag > 0:\n",
    "        df_earthquake = df_earthquake[df_earthquake['mag'] >= min_mag]\n",
    "    else:\n",
    "        df_earthquake = df_earthquake[df_earthquake['mag'] > 0]\n",
    "\n",
    "    \n",
    "    df_earthquake['time'] = pd.to_datetime(df_earthquake['time'])\n",
    "    \n",
    "\n",
    "    if region in df_earthquake['area'].to_list():\n",
    "        df_earthquake = df_earthquake[df_earthquake['area']==region]\n",
    "        max_mag = df_earthquake['mag'].max()\n",
    "        center_lat = df_earthquake[df_earthquake['mag']== max_mag]['latitude'].values[0]\n",
    "        center_long = df_earthquake[df_earthquake['mag']==max_mag]['longitude'].values[0]\n",
    "    else:\n",
    "        center_lat , center_long = [54,15]\n",
    "\n",
    "    if period == 'weekly':\n",
    "        animation_frame_col = 'weekday'\n",
    "        df_earthquake[animation_frame_col] = df_earthquake['time'].apply(extract_weekday)\n",
    "    elif period == 'monthly':\n",
    "        animation_frame_col = 'date'\n",
    "        df_earthquake[animation_frame_col] = df_earthquake['time'].apply(extract_date)\n",
    "    else:\n",
    "        animation_frame_col = 'hours'\n",
    "        df_earthquake[animation_frame_col] = df_earthquake['time'].apply(extract_hour)\n",
    "    \n",
    "    df_earthquake = df_earthquake.sort_values(by='time')\n",
    "    \n",
    "    return df_earthquake , center_lat ,center_long\n"
   ]
  },
  {
   "cell_type": "code",
   "execution_count": 9,
   "metadata": {},
   "outputs": [],
   "source": [
    "def visualize_eq_data(period = \"daily\", region = \"Worldwide\", min_mag = 1):\n",
    "    df_earthquake , center_lat , center_long = fetch_eq_data(period=period,region=region,min_mag=min_mag)\n",
    "\n",
    "    if period == 'monthly':\n",
    "        animation_frame_col = 'date'\n",
    "    elif period == 'weekly':\n",
    "        animation_frame_col = 'weekday'\n",
    "    else:\n",
    "        animation_frame_col = 'hours'\n",
    "    \n",
    "    fig = px.scatter_mapbox(\n",
    "        data_frame = df_earthquake,\n",
    "        lat = 'latitude',\n",
    "        lon = 'longitude',\n",
    "        center = dict(lat = center_lat,lon = center_long),\n",
    "        size = 'mag',\n",
    "        color = 'mag',\n",
    "        hover_name = 'sub_area',\n",
    "        zoom =1,\n",
    "        mapbox_style = 'carto-positron',\n",
    "        animation_frame = animation_frame_col,\n",
    "        title = 'Earthquakes'\n",
    "    )\n",
    "\n",
    "    fig.show()\n",
    "\n",
    "    return None \n",
    "    \n",
    "\n",
    "    \n",
    "    "
   ]
  },
  {
   "cell_type": "code",
   "execution_count": null,
   "metadata": {},
   "outputs": [],
   "source": [
    "visualize_eq_data(period='monthly',region='Worldwide',min_mag=1)"
   ]
  },
  {
   "cell_type": "code",
   "execution_count": null,
   "metadata": {},
   "outputs": [],
   "source": []
  }
 ],
 "metadata": {
  "kernelspec": {
   "display_name": "Python 3 (ipykernel)",
   "language": "python",
   "name": "python3"
  },
  "language_info": {
   "codemirror_mode": {
    "name": "ipython",
    "version": 3
   },
   "file_extension": ".py",
   "mimetype": "text/x-python",
   "name": "python",
   "nbconvert_exporter": "python",
   "pygments_lexer": "ipython3",
   "version": "3.11.3"
  }
 },
 "nbformat": 4,
 "nbformat_minor": 2
}
